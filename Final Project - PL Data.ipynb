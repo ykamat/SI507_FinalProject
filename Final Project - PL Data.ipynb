{
 "cells": [
  {
   "cell_type": "code",
   "execution_count": 1,
   "id": "nearby-elevation",
   "metadata": {
    "ExecuteTime": {
     "end_time": "2021-04-19T22:18:10.232873Z",
     "start_time": "2021-04-19T22:18:08.141721Z"
    }
   },
   "outputs": [],
   "source": [
    "import warnings\n",
    "warnings.filterwarnings('ignore')\n",
    "\n",
    "import numpy               as np\n",
    "import pandas              as pd\n",
    "import matplotlib.pyplot   as plt\n",
    "import seaborn             as sns\n",
    "%matplotlib inline"
   ]
  },
  {
   "cell_type": "code",
   "execution_count": 2,
   "id": "accessory-ticket",
   "metadata": {
    "ExecuteTime": {
     "end_time": "2021-04-19T22:18:10.399768Z",
     "start_time": "2021-04-19T22:18:10.247069Z"
    }
   },
   "outputs": [],
   "source": [
    "import requests\n",
    "import json"
   ]
  },
  {
   "cell_type": "code",
   "execution_count": 6,
   "id": "informed-registration",
   "metadata": {
    "ExecuteTime": {
     "end_time": "2021-04-19T23:53:44.495255Z",
     "start_time": "2021-04-19T23:53:44.004401Z"
    }
   },
   "outputs": [
    {
     "name": "stdout",
     "output_type": "stream",
     "text": [
      "{\"get\":\"api\\/v3\\/status\",\"parameters\":[],\"errors\":[],\"results\":1,\"paging\":{\"current\":1,\"total\":1},\"response\":{\"account\":{\"firstname\":\"Yash\",\"lastname\":\"Kamat\",\"email\":\"ykamat@umich.edu\"},\"subscription\":{\"plan\":\"Free\",\"end\":\"2022-03-30T00:00:00+00:00\",\"active\":true},\"requests\":{\"current\":0,\"limit_day\":100}}}\n"
     ]
    }
   ],
   "source": [
    "url = \"https://v3.football.api-sports.io/status\"\n",
    "\n",
    "payload={}\n",
    "headers = {\n",
    "  'x-apisports-key': key,\n",
    "}\n",
    "\n",
    "response = requests.request(\"GET\", url, headers=headers, data=payload)\n",
    "\n",
    "print(response.text)"
   ]
  },
  {
   "cell_type": "code",
   "execution_count": 16,
   "id": "wrong-johnson",
   "metadata": {
    "ExecuteTime": {
     "end_time": "2021-04-20T00:09:39.991284Z",
     "start_time": "2021-04-20T00:09:39.987642Z"
    },
    "scrolled": true
   },
   "outputs": [],
   "source": [
    "# url = \"https://v3.football.api-sports.io/players\"\n",
    "\n",
    "# query={'league':39, 'search':'Rashford'}\n",
    "# headers = {\n",
    "#   'x-apisports-key': key,\n",
    "# }\n",
    "\n",
    "# response = requests.request(\"GET\", url, headers=headers, params=query)\n",
    "\n",
    "# print(response.text)"
   ]
  },
  {
   "cell_type": "code",
   "execution_count": 37,
   "id": "third-stupid",
   "metadata": {
    "ExecuteTime": {
     "end_time": "2021-04-20T00:28:08.071978Z",
     "start_time": "2021-04-20T00:28:08.068756Z"
    }
   },
   "outputs": [],
   "source": [
    "curr_cache = {}"
   ]
  },
  {
   "cell_type": "code",
   "execution_count": 41,
   "id": "personal-trade",
   "metadata": {
    "ExecuteTime": {
     "end_time": "2021-04-20T00:28:56.932350Z",
     "start_time": "2021-04-20T00:28:56.924939Z"
    }
   },
   "outputs": [],
   "source": [
    "def get_player_api(name):\n",
    "    \n",
    "    if name in curr_cache.keys():\n",
    "        print('Using cache')\n",
    "        api_result = curr_cache[name]\n",
    "        \n",
    "    else:\n",
    "        print('Using API')\n",
    "        url = \"https://v3.football.api-sports.io/players\"\n",
    "\n",
    "        query={'league':39, 'search':name}\n",
    "        headers = {\n",
    "          'x-apisports-key': key,\n",
    "        }\n",
    "\n",
    "        response = requests.request(\"GET\", url, headers=headers, params=query)\n",
    "        api_result = {name:response.text}\n",
    "        curr_cache.update(api_result)\n",
    "    \n",
    "    print(api_result)\n",
    "    \n",
    "    with open('api_cache.json', 'w') as json_file:\n",
    "        json.dump(curr_cache, json_file)"
   ]
  },
  {
   "cell_type": "code",
   "execution_count": 42,
   "id": "sized-conclusion",
   "metadata": {
    "ExecuteTime": {
     "end_time": "2021-04-20T00:28:59.290397Z",
     "start_time": "2021-04-20T00:28:59.284731Z"
    },
    "scrolled": true
   },
   "outputs": [
    {
     "name": "stdout",
     "output_type": "stream",
     "text": [
      "Using cache\n",
      "{\"get\":\"players\",\"parameters\":{\"league\":\"39\",\"search\":\"Martial\"},\"errors\":[],\"results\":1,\"paging\":{\"current\":1,\"total\":1},\"response\":[{\"player\":{\"id\":908,\"name\":\"A. Martial\",\"firstname\":\"Anthony\",\"lastname\":\"Martial\",\"age\":26,\"birth\":{\"date\":\"1995-12-05\",\"place\":\"Massy\",\"country\":\"France\"},\"nationality\":\"France\",\"height\":\"181 cm\",\"weight\":\"76 kg\",\"injured\":false,\"photo\":\"https:\\/\\/media.api-sports.io\\/football\\/players\\/908.png\"},\"statistics\":[{\"team\":{\"id\":33,\"name\":\"Manchester United\",\"logo\":\"https:\\/\\/media.api-sports.io\\/football\\/teams\\/33.png\"},\"league\":{\"id\":39,\"name\":\"Premier League\",\"country\":\"England\",\"logo\":\"https:\\/\\/media.api-sports.io\\/football\\/leagues\\/39.png\",\"flag\":\"https:\\/\\/media.api-sports.io\\/flags\\/gb.svg\",\"season\":2020},\"games\":{\"appearences\":22,\"lineups\":17,\"minutes\":1487,\"number\":null,\"position\":\"Attacker\",\"rating\":\"6.800000\",\"captain\":false},\"substitutes\":{\"in\":5,\"out\":11,\"bench\":6},\"shots\":{\"total\":32,\"on\":20},\"goals\":{\"total\":4,\"conceded\":0,\"assists\":3,\"saves\":null},\"passes\":{\"total\":481,\"key\":17,\"accuracy\":18},\"tackles\":{\"total\":2,\"blocks\":3,\"interceptions\":1},\"duels\":{\"total\":187,\"won\":81},\"dribbles\":{\"attempts\":60,\"success\":36,\"past\":null},\"fouls\":{\"drawn\":27,\"committed\":15},\"cards\":{\"yellow\":0,\"yellowred\":0,\"red\":1},\"penalty\":{\"won\":null,\"commited\":null,\"scored\":0,\"missed\":0,\"saved\":null}},{\"team\":{\"id\":33,\"name\":\"Manchester United\",\"logo\":\"https:\\/\\/media.api-sports.io\\/football\\/teams\\/33.png\"},\"league\":{\"id\":39,\"name\":\"Premier League\",\"country\":\"England\",\"logo\":\"https:\\/\\/media.api-sports.io\\/football\\/leagues\\/39.png\",\"flag\":\"https:\\/\\/media.api-sports.io\\/flags\\/gb.svg\",\"season\":2019},\"games\":{\"appearences\":32,\"lineups\":31,\"minutes\":2640,\"number\":null,\"position\":\"Attacker\",\"rating\":\"7.153125\",\"captain\":false},\"substitutes\":{\"in\":1,\"out\":17,\"bench\":1},\"shots\":{\"total\":80,\"on\":40},\"goals\":{\"total\":17,\"conceded\":null,\"assists\":6,\"saves\":null},\"passes\":{\"total\":574,\"key\":31,\"accuracy\":80},\"tackles\":{\"total\":15,\"blocks\":1,\"interceptions\":5},\"duels\":{\"total\":339,\"won\":124},\"dribbles\":{\"attempts\":97,\"success\":50,\"past\":null},\"fouls\":{\"drawn\":41,\"committed\":28},\"cards\":{\"yellow\":1,\"yellowred\":0,\"red\":0},\"penalty\":{\"won\":1,\"commited\":null,\"scored\":0,\"missed\":1,\"saved\":null}},{\"team\":{\"id\":33,\"name\":\"Manchester United\",\"logo\":\"https:\\/\\/media.api-sports.io\\/football\\/teams\\/33.png\"},\"league\":{\"id\":39,\"name\":\"Premier League\",\"country\":\"England\",\"logo\":\"https:\\/\\/media.api-sports.io\\/football\\/leagues\\/39.png\",\"flag\":\"https:\\/\\/media.api-sports.io\\/flags\\/gb.svg\",\"season\":2018},\"games\":{\"appearences\":27,\"lineups\":18,\"minutes\":1623,\"number\":null,\"position\":\"Attacker\",\"rating\":\"7.003703\",\"captain\":false},\"substitutes\":{\"in\":9,\"out\":11,\"bench\":12},\"shots\":{\"total\":39,\"on\":23},\"goals\":{\"total\":10,\"conceded\":null,\"assists\":2,\"saves\":null},\"passes\":{\"total\":561,\"key\":36,\"accuracy\":77},\"tackles\":{\"total\":9,\"blocks\":0,\"interceptions\":3},\"duels\":{\"total\":194,\"won\":87},\"dribbles\":{\"attempts\":65,\"success\":32,\"past\":null},\"fouls\":{\"drawn\":28,\"committed\":14},\"cards\":{\"yellow\":2,\"yellowred\":0,\"red\":0},\"penalty\":{\"won\":2,\"commited\":null,\"scored\":1,\"missed\":0,\"saved\":null}},{\"team\":{\"id\":33,\"name\":\"Manchester United\",\"logo\":\"https:\\/\\/media.api-sports.io\\/football\\/teams\\/33.png\"},\"league\":{\"id\":39,\"name\":\"Premier League\",\"country\":\"England\",\"logo\":\"https:\\/\\/media.api-sports.io\\/football\\/leagues\\/39.png\",\"flag\":\"https:\\/\\/media.api-sports.io\\/flags\\/gb.svg\",\"season\":2017},\"games\":{\"appearences\":30,\"lineups\":18,\"minutes\":1583,\"number\":null,\"position\":\"Attacker\",\"rating\":\"6.933333\",\"captain\":false},\"substitutes\":{\"in\":12,\"out\":13,\"bench\":16},\"shots\":{\"total\":49,\"on\":16},\"goals\":{\"total\":9,\"conceded\":null,\"assists\":5,\"saves\":null},\"passes\":{\"total\":599,\"key\":33,\"accuracy\":82},\"tackles\":{\"total\":15,\"blocks\":1,\"interceptions\":3},\"duels\":{\"total\":244,\"won\":99},\"dribbles\":{\"attempts\":83,\"success\":43,\"past\":null},\"fouls\":{\"drawn\":27,\"committed\":17},\"cards\":{\"yellow\":1,\"yellowred\":0,\"red\":0},\"penalty\":{\"won\":null,\"commited\":null,\"scored\":1,\"missed\":0,\"saved\":null}},{\"team\":{\"id\":33,\"name\":\"Manchester United\",\"logo\":\"https:\\/\\/media.api-sports.io\\/football\\/teams\\/33.png\"},\"league\":{\"id\":39,\"name\":\"Premier League\",\"country\":\"England\",\"logo\":\"https:\\/\\/media.api-sports.io\\/football\\/leagues\\/39.png\",\"flag\":\"https:\\/\\/media.api-sports.io\\/flags\\/gb.svg\",\"season\":2016},\"games\":{\"appearences\":25,\"lineups\":18,\"minutes\":1559,\"number\":null,\"position\":\"Attacker\",\"rating\":\"6.972000\",\"captain\":false},\"substitutes\":{\"in\":7,\"out\":11,\"bench\":13},\"shots\":{\"total\":42,\"on\":18},\"goals\":{\"total\":4,\"conceded\":null,\"assists\":6,\"saves\":null},\"passes\":{\"total\":494,\"key\":25,\"accuracy\":81},\"tackles\":{\"total\":17,\"blocks\":1,\"interceptions\":9},\"duels\":{\"total\":253,\"won\":110},\"dribbles\":{\"attempts\":80,\"success\":44,\"past\":null},\"fouls\":{\"drawn\":28,\"committed\":26},\"cards\":{\"yellow\":2,\"yellowred\":0,\"red\":0},\"penalty\":{\"won\":null,\"commited\":null,\"scored\":0,\"missed\":0,\"saved\":null}},{\"team\":{\"id\":33,\"name\":\"Manchester United\",\"logo\":\"https:\\/\\/media.api-sports.io\\/football\\/teams\\/33.png\"},\"league\":{\"id\":39,\"name\":\"Premier League\",\"country\":\"England\",\"logo\":\"https:\\/\\/media.api-sports.io\\/football\\/leagues\\/39.png\",\"flag\":\"https:\\/\\/media.api-sports.io\\/flags\\/gb.svg\",\"season\":2015},\"games\":{\"appearences\":31,\"lineups\":29,\"minutes\":2632,\"number\":null,\"position\":\"Attacker\",\"rating\":\"6.790322\",\"captain\":false},\"substitutes\":{\"in\":2,\"out\":2,\"bench\":2},\"shots\":{\"total\":54,\"on\":25},\"goals\":{\"total\":11,\"conceded\":0,\"assists\":4,\"saves\":null},\"passes\":{\"total\":764,\"key\":36,\"accuracy\":60},\"tackles\":{\"total\":21,\"blocks\":4,\"interceptions\":9},\"duels\":{\"total\":553,\"won\":213},\"dribbles\":{\"attempts\":182,\"success\":84,\"past\":null},\"fouls\":{\"drawn\":56,\"committed\":40},\"cards\":{\"yellow\":2,\"yellowred\":0,\"red\":0},\"penalty\":{\"won\":null,\"commited\":null,\"scored\":0,\"missed\":0,\"saved\":null}}]}]}\n"
     ]
    }
   ],
   "source": [
    "get_player_api('Martial')"
   ]
  },
  {
   "cell_type": "code",
   "execution_count": 43,
   "id": "amber-rover",
   "metadata": {
    "ExecuteTime": {
     "end_time": "2021-04-20T00:29:03.722160Z",
     "start_time": "2021-04-20T00:29:03.717174Z"
    },
    "scrolled": true
   },
   "outputs": [
    {
     "name": "stdout",
     "output_type": "stream",
     "text": [
      "Using cache\n",
      "{\"get\":\"players\",\"parameters\":{\"league\":\"39\",\"search\":\"Lindelof\"},\"errors\":[],\"results\":1,\"paging\":{\"current\":1,\"total\":1},\"response\":[{\"player\":{\"id\":889,\"name\":\"V. Lindel\\u00f6f\",\"firstname\":\"Victor\",\"lastname\":\"Nilsson Lindel\\u00f6f\",\"age\":27,\"birth\":{\"date\":\"1994-07-17\",\"place\":\"V\\u00e4ster\\u00e5s\",\"country\":\"Sweden\"},\"nationality\":\"Sweden\",\"height\":\"187 cm\",\"weight\":\"80 kg\",\"injured\":false,\"photo\":\"https:\\/\\/media.api-sports.io\\/football\\/players\\/889.png\"},\"statistics\":[{\"team\":{\"id\":33,\"name\":\"Manchester United\",\"logo\":\"https:\\/\\/media.api-sports.io\\/football\\/teams\\/33.png\"},\"league\":{\"id\":39,\"name\":\"Premier League\",\"country\":\"England\",\"logo\":\"https:\\/\\/media.api-sports.io\\/football\\/leagues\\/39.png\",\"flag\":\"https:\\/\\/media.api-sports.io\\/flags\\/gb.svg\",\"season\":2020},\"games\":{\"appearences\":25,\"lineups\":25,\"minutes\":2226,\"number\":null,\"position\":\"Defender\",\"rating\":\"6.872000\",\"captain\":false},\"substitutes\":{\"in\":0,\"out\":1,\"bench\":3},\"shots\":{\"total\":4,\"on\":1},\"goals\":{\"total\":1,\"conceded\":0,\"assists\":1,\"saves\":null},\"passes\":{\"total\":1598,\"key\":5,\"accuracy\":57},\"tackles\":{\"total\":18,\"blocks\":14,\"interceptions\":22},\"duels\":{\"total\":151,\"won\":81},\"dribbles\":{\"attempts\":4,\"success\":2,\"past\":null},\"fouls\":{\"drawn\":6,\"committed\":22},\"cards\":{\"yellow\":0,\"yellowred\":0,\"red\":0},\"penalty\":{\"won\":null,\"commited\":null,\"scored\":0,\"missed\":0,\"saved\":null}},{\"team\":{\"id\":33,\"name\":\"Manchester United\",\"logo\":\"https:\\/\\/media.api-sports.io\\/football\\/teams\\/33.png\"},\"league\":{\"id\":39,\"name\":\"Premier League\",\"country\":\"England\",\"logo\":\"https:\\/\\/media.api-sports.io\\/football\\/leagues\\/39.png\",\"flag\":\"https:\\/\\/media.api-sports.io\\/flags\\/gb.svg\",\"season\":2019},\"games\":{\"appearences\":35,\"lineups\":35,\"minutes\":3094,\"number\":null,\"position\":\"Defender\",\"rating\":\"6.894285\",\"captain\":false},\"substitutes\":{\"in\":0,\"out\":2,\"bench\":0},\"shots\":{\"total\":6,\"on\":1},\"goals\":{\"total\":1,\"conceded\":null,\"assists\":null,\"saves\":null},\"passes\":{\"total\":1811,\"key\":4,\"accuracy\":85},\"tackles\":{\"total\":29,\"blocks\":16,\"interceptions\":26},\"duels\":{\"total\":213,\"won\":135},\"dribbles\":{\"attempts\":5,\"success\":4,\"past\":null},\"fouls\":{\"drawn\":6,\"committed\":22},\"cards\":{\"yellow\":6,\"yellowred\":0,\"red\":0},\"penalty\":{\"won\":null,\"commited\":null,\"scored\":0,\"missed\":0,\"saved\":null}},{\"team\":{\"id\":33,\"name\":\"Manchester United\",\"logo\":\"https:\\/\\/media.api-sports.io\\/football\\/teams\\/33.png\"},\"league\":{\"id\":39,\"name\":\"Premier League\",\"country\":\"England\",\"logo\":\"https:\\/\\/media.api-sports.io\\/football\\/leagues\\/39.png\",\"flag\":\"https:\\/\\/media.api-sports.io\\/flags\\/gb.svg\",\"season\":2018},\"games\":{\"appearences\":30,\"lineups\":29,\"minutes\":2602,\"number\":null,\"position\":\"Defender\",\"rating\":\"6.840000\",\"captain\":false},\"substitutes\":{\"in\":1,\"out\":2,\"bench\":3},\"shots\":{\"total\":8,\"on\":1},\"goals\":{\"total\":1,\"conceded\":null,\"assists\":1,\"saves\":null},\"passes\":{\"total\":1329,\"key\":5,\"accuracy\":87},\"tackles\":{\"total\":40,\"blocks\":12,\"interceptions\":24},\"duels\":{\"total\":201,\"won\":131},\"dribbles\":{\"attempts\":8,\"success\":8,\"past\":null},\"fouls\":{\"drawn\":15,\"committed\":19},\"cards\":{\"yellow\":1,\"yellowred\":0,\"red\":0},\"penalty\":{\"won\":null,\"commited\":null,\"scored\":0,\"missed\":0,\"saved\":null}},{\"team\":{\"id\":33,\"name\":\"Manchester United\",\"logo\":\"https:\\/\\/media.api-sports.io\\/football\\/teams\\/33.png\"},\"league\":{\"id\":39,\"name\":\"Premier League\",\"country\":\"England\",\"logo\":\"https:\\/\\/media.api-sports.io\\/football\\/leagues\\/39.png\",\"flag\":\"https:\\/\\/media.api-sports.io\\/flags\\/gb.svg\",\"season\":2017},\"games\":{\"appearences\":17,\"lineups\":13,\"minutes\":1281,\"number\":null,\"position\":\"Defender\",\"rating\":\"6.926666\",\"captain\":false},\"substitutes\":{\"in\":4,\"out\":0,\"bench\":13},\"shots\":{\"total\":1,\"on\":0},\"goals\":{\"total\":0,\"conceded\":null,\"assists\":null,\"saves\":null},\"passes\":{\"total\":682,\"key\":2,\"accuracy\":78},\"tackles\":{\"total\":17,\"blocks\":11,\"interceptions\":13},\"duels\":{\"total\":92,\"won\":51},\"dribbles\":{\"attempts\":5,\"success\":4,\"past\":null},\"fouls\":{\"drawn\":9,\"committed\":10},\"cards\":{\"yellow\":1,\"yellowred\":0,\"red\":0},\"penalty\":{\"won\":null,\"commited\":null,\"scored\":0,\"missed\":0,\"saved\":null}}]}]}\n"
     ]
    }
   ],
   "source": [
    "get_player_api('Lindelof')"
   ]
  },
  {
   "cell_type": "code",
   "execution_count": 70,
   "id": "covered-carter",
   "metadata": {
    "ExecuteTime": {
     "end_time": "2021-04-20T01:35:01.031359Z",
     "start_time": "2021-04-20T01:35:00.921570Z"
    }
   },
   "outputs": [],
   "source": [
    "df = pd.read_csv('players_1920_fin.csv')\n",
    "name_data = pd.read_csv('player_idlist.csv')"
   ]
  },
  {
   "cell_type": "code",
   "execution_count": 4,
   "id": "attached-walnut",
   "metadata": {
    "ExecuteTime": {
     "end_time": "2021-04-19T22:21:32.882285Z",
     "start_time": "2021-04-19T22:21:32.851138Z"
    }
   },
   "outputs": [
    {
     "data": {
      "text/html": [
       "<div>\n",
       "<style scoped>\n",
       "    .dataframe tbody tr th:only-of-type {\n",
       "        vertical-align: middle;\n",
       "    }\n",
       "\n",
       "    .dataframe tbody tr th {\n",
       "        vertical-align: top;\n",
       "    }\n",
       "\n",
       "    .dataframe thead th {\n",
       "        text-align: right;\n",
       "    }\n",
       "</style>\n",
       "<table border=\"1\" class=\"dataframe\">\n",
       "  <thead>\n",
       "    <tr style=\"text-align: right;\">\n",
       "      <th></th>\n",
       "      <th>Unnamed: 0</th>\n",
       "      <th>assists</th>\n",
       "      <th>bonus</th>\n",
       "      <th>bps</th>\n",
       "      <th>clean_sheets</th>\n",
       "      <th>creativity</th>\n",
       "      <th>element</th>\n",
       "      <th>fixture</th>\n",
       "      <th>goals_conceded</th>\n",
       "      <th>goals_scored</th>\n",
       "      <th>...</th>\n",
       "      <th>total_points</th>\n",
       "      <th>transfers_balance</th>\n",
       "      <th>transfers_in</th>\n",
       "      <th>transfers_out</th>\n",
       "      <th>value</th>\n",
       "      <th>was_home</th>\n",
       "      <th>yellow_cards</th>\n",
       "      <th>full</th>\n",
       "      <th>team</th>\n",
       "      <th>ppm</th>\n",
       "    </tr>\n",
       "  </thead>\n",
       "  <tbody>\n",
       "    <tr>\n",
       "      <th>0</th>\n",
       "      <td>1</td>\n",
       "      <td>0</td>\n",
       "      <td>0</td>\n",
       "      <td>1</td>\n",
       "      <td>0</td>\n",
       "      <td>0.1</td>\n",
       "      <td>534</td>\n",
       "      <td>37</td>\n",
       "      <td>1</td>\n",
       "      <td>0</td>\n",
       "      <td>...</td>\n",
       "      <td>1</td>\n",
       "      <td>0</td>\n",
       "      <td>0</td>\n",
       "      <td>0</td>\n",
       "      <td>4.5</td>\n",
       "      <td>False</td>\n",
       "      <td>0</td>\n",
       "      <td>Aaron Connolly</td>\n",
       "      <td>Brighton</td>\n",
       "      <td>0.222222</td>\n",
       "    </tr>\n",
       "    <tr>\n",
       "      <th>1</th>\n",
       "      <td>2</td>\n",
       "      <td>0</td>\n",
       "      <td>0</td>\n",
       "      <td>1</td>\n",
       "      <td>0</td>\n",
       "      <td>0.3</td>\n",
       "      <td>534</td>\n",
       "      <td>43</td>\n",
       "      <td>1</td>\n",
       "      <td>0</td>\n",
       "      <td>...</td>\n",
       "      <td>1</td>\n",
       "      <td>10589</td>\n",
       "      <td>13500</td>\n",
       "      <td>2911</td>\n",
       "      <td>4.5</td>\n",
       "      <td>True</td>\n",
       "      <td>0</td>\n",
       "      <td>Aaron Connolly</td>\n",
       "      <td>Brighton</td>\n",
       "      <td>0.222222</td>\n",
       "    </tr>\n",
       "    <tr>\n",
       "      <th>2</th>\n",
       "      <td>3</td>\n",
       "      <td>0</td>\n",
       "      <td>0</td>\n",
       "      <td>1</td>\n",
       "      <td>0</td>\n",
       "      <td>4.8</td>\n",
       "      <td>534</td>\n",
       "      <td>58</td>\n",
       "      <td>0</td>\n",
       "      <td>0</td>\n",
       "      <td>...</td>\n",
       "      <td>1</td>\n",
       "      <td>8090</td>\n",
       "      <td>11749</td>\n",
       "      <td>3659</td>\n",
       "      <td>4.5</td>\n",
       "      <td>False</td>\n",
       "      <td>0</td>\n",
       "      <td>Aaron Connolly</td>\n",
       "      <td>Brighton</td>\n",
       "      <td>0.222222</td>\n",
       "    </tr>\n",
       "    <tr>\n",
       "      <th>3</th>\n",
       "      <td>4</td>\n",
       "      <td>0</td>\n",
       "      <td>0</td>\n",
       "      <td>2</td>\n",
       "      <td>0</td>\n",
       "      <td>0.6</td>\n",
       "      <td>534</td>\n",
       "      <td>63</td>\n",
       "      <td>1</td>\n",
       "      <td>0</td>\n",
       "      <td>...</td>\n",
       "      <td>1</td>\n",
       "      <td>8437</td>\n",
       "      <td>13439</td>\n",
       "      <td>5002</td>\n",
       "      <td>4.5</td>\n",
       "      <td>False</td>\n",
       "      <td>0</td>\n",
       "      <td>Aaron Connolly</td>\n",
       "      <td>Brighton</td>\n",
       "      <td>0.222222</td>\n",
       "    </tr>\n",
       "    <tr>\n",
       "      <th>4</th>\n",
       "      <td>5</td>\n",
       "      <td>0</td>\n",
       "      <td>3</td>\n",
       "      <td>53</td>\n",
       "      <td>1</td>\n",
       "      <td>23.8</td>\n",
       "      <td>534</td>\n",
       "      <td>72</td>\n",
       "      <td>0</td>\n",
       "      <td>2</td>\n",
       "      <td>...</td>\n",
       "      <td>13</td>\n",
       "      <td>2156</td>\n",
       "      <td>5952</td>\n",
       "      <td>3796</td>\n",
       "      <td>4.5</td>\n",
       "      <td>True</td>\n",
       "      <td>0</td>\n",
       "      <td>Aaron Connolly</td>\n",
       "      <td>Brighton</td>\n",
       "      <td>2.888889</td>\n",
       "    </tr>\n",
       "  </tbody>\n",
       "</table>\n",
       "<p>5 rows × 35 columns</p>\n",
       "</div>"
      ],
      "text/plain": [
       "   Unnamed: 0  assists  bonus  bps  clean_sheets  creativity  element  \\\n",
       "0           1        0      0    1             0         0.1      534   \n",
       "1           2        0      0    1             0         0.3      534   \n",
       "2           3        0      0    1             0         4.8      534   \n",
       "3           4        0      0    2             0         0.6      534   \n",
       "4           5        0      3   53             1        23.8      534   \n",
       "\n",
       "   fixture  goals_conceded  goals_scored  ...  total_points  \\\n",
       "0       37               1             0  ...             1   \n",
       "1       43               1             0  ...             1   \n",
       "2       58               0             0  ...             1   \n",
       "3       63               1             0  ...             1   \n",
       "4       72               0             2  ...            13   \n",
       "\n",
       "   transfers_balance transfers_in  transfers_out value  was_home  \\\n",
       "0                  0            0              0   4.5     False   \n",
       "1              10589        13500           2911   4.5      True   \n",
       "2               8090        11749           3659   4.5     False   \n",
       "3               8437        13439           5002   4.5     False   \n",
       "4               2156         5952           3796   4.5      True   \n",
       "\n",
       "   yellow_cards            full      team       ppm  \n",
       "0             0  Aaron Connolly  Brighton  0.222222  \n",
       "1             0  Aaron Connolly  Brighton  0.222222  \n",
       "2             0  Aaron Connolly  Brighton  0.222222  \n",
       "3             0  Aaron Connolly  Brighton  0.222222  \n",
       "4             0  Aaron Connolly  Brighton  2.888889  \n",
       "\n",
       "[5 rows x 35 columns]"
      ]
     },
     "execution_count": 4,
     "metadata": {},
     "output_type": "execute_result"
    }
   ],
   "source": [
    "df.head()"
   ]
  },
  {
   "cell_type": "code",
   "execution_count": 71,
   "id": "about-batman",
   "metadata": {
    "ExecuteTime": {
     "end_time": "2021-04-20T01:35:13.110732Z",
     "start_time": "2021-04-20T01:35:13.099356Z"
    }
   },
   "outputs": [
    {
     "data": {
      "text/html": [
       "<div>\n",
       "<style scoped>\n",
       "    .dataframe tbody tr th:only-of-type {\n",
       "        vertical-align: middle;\n",
       "    }\n",
       "\n",
       "    .dataframe tbody tr th {\n",
       "        vertical-align: top;\n",
       "    }\n",
       "\n",
       "    .dataframe thead th {\n",
       "        text-align: right;\n",
       "    }\n",
       "</style>\n",
       "<table border=\"1\" class=\"dataframe\">\n",
       "  <thead>\n",
       "    <tr style=\"text-align: right;\">\n",
       "      <th></th>\n",
       "      <th>first_name</th>\n",
       "      <th>second_name</th>\n",
       "      <th>id</th>\n",
       "    </tr>\n",
       "  </thead>\n",
       "  <tbody>\n",
       "    <tr>\n",
       "      <th>0</th>\n",
       "      <td>Shkodran</td>\n",
       "      <td>Mustafi</td>\n",
       "      <td>1</td>\n",
       "    </tr>\n",
       "    <tr>\n",
       "      <th>1</th>\n",
       "      <td>Héctor</td>\n",
       "      <td>Bellerín</td>\n",
       "      <td>2</td>\n",
       "    </tr>\n",
       "    <tr>\n",
       "      <th>2</th>\n",
       "      <td>Sead</td>\n",
       "      <td>Kolasinac</td>\n",
       "      <td>3</td>\n",
       "    </tr>\n",
       "    <tr>\n",
       "      <th>3</th>\n",
       "      <td>Ainsley</td>\n",
       "      <td>Maitland-Niles</td>\n",
       "      <td>4</td>\n",
       "    </tr>\n",
       "    <tr>\n",
       "      <th>4</th>\n",
       "      <td>Sokratis</td>\n",
       "      <td>Papastathopoulos</td>\n",
       "      <td>5</td>\n",
       "    </tr>\n",
       "  </tbody>\n",
       "</table>\n",
       "</div>"
      ],
      "text/plain": [
       "  first_name       second_name  id\n",
       "0   Shkodran           Mustafi   1\n",
       "1     Héctor          Bellerín   2\n",
       "2       Sead         Kolasinac   3\n",
       "3    Ainsley    Maitland-Niles   4\n",
       "4   Sokratis  Papastathopoulos   5"
      ]
     },
     "execution_count": 71,
     "metadata": {},
     "output_type": "execute_result"
    }
   ],
   "source": [
    "name_data.head()"
   ]
  },
  {
   "cell_type": "code",
   "execution_count": 45,
   "id": "durable-adult",
   "metadata": {
    "ExecuteTime": {
     "end_time": "2021-04-20T00:43:47.063045Z",
     "start_time": "2021-04-20T00:43:47.059272Z"
    }
   },
   "outputs": [
    {
     "data": {
      "text/plain": [
       "Index(['Unnamed: 0', 'assists', 'bonus', 'bps', 'clean_sheets', 'creativity',\n",
       "       'element', 'fixture', 'goals_conceded', 'goals_scored', 'ict_index',\n",
       "       'influence', 'kickoff_time', 'minutes', 'opponent_team', 'own_goals',\n",
       "       'penalties_missed', 'penalties_saved', 'red_cards', 'round', 'saves',\n",
       "       'selected', 'team_a_score', 'team_h_score', 'threat', 'total_points',\n",
       "       'transfers_balance', 'transfers_in', 'transfers_out', 'value',\n",
       "       'was_home', 'yellow_cards', 'full', 'team', 'ppm'],\n",
       "      dtype='object')"
      ]
     },
     "execution_count": 45,
     "metadata": {},
     "output_type": "execute_result"
    }
   ],
   "source": [
    "df.columns"
   ]
  },
  {
   "cell_type": "code",
   "execution_count": 164,
   "id": "regulation-washer",
   "metadata": {
    "ExecuteTime": {
     "end_time": "2021-04-20T02:29:32.250170Z",
     "start_time": "2021-04-20T02:29:32.243458Z"
    }
   },
   "outputs": [],
   "source": [
    "sample_data = df[['element','minutes','goals_scored','assists','total_points']].sample(20, random_state=10)"
   ]
  },
  {
   "cell_type": "code",
   "execution_count": 165,
   "id": "wireless-wings",
   "metadata": {
    "ExecuteTime": {
     "end_time": "2021-04-20T02:29:32.475291Z",
     "start_time": "2021-04-20T02:29:32.471296Z"
    },
    "scrolled": true
   },
   "outputs": [],
   "source": [
    "sample_data = sample_data.reset_index()"
   ]
  },
  {
   "cell_type": "code",
   "execution_count": 166,
   "id": "animated-ethics",
   "metadata": {
    "ExecuteTime": {
     "end_time": "2021-04-20T02:29:32.663243Z",
     "start_time": "2021-04-20T02:29:32.653430Z"
    }
   },
   "outputs": [
    {
     "data": {
      "text/html": [
       "<div>\n",
       "<style scoped>\n",
       "    .dataframe tbody tr th:only-of-type {\n",
       "        vertical-align: middle;\n",
       "    }\n",
       "\n",
       "    .dataframe tbody tr th {\n",
       "        vertical-align: top;\n",
       "    }\n",
       "\n",
       "    .dataframe thead th {\n",
       "        text-align: right;\n",
       "    }\n",
       "</style>\n",
       "<table border=\"1\" class=\"dataframe\">\n",
       "  <thead>\n",
       "    <tr style=\"text-align: right;\">\n",
       "      <th></th>\n",
       "      <th>index</th>\n",
       "      <th>element</th>\n",
       "      <th>minutes</th>\n",
       "      <th>goals_scored</th>\n",
       "      <th>assists</th>\n",
       "      <th>total_points</th>\n",
       "    </tr>\n",
       "  </thead>\n",
       "  <tbody>\n",
       "    <tr>\n",
       "      <th>0</th>\n",
       "      <td>20388</td>\n",
       "      <td>58</td>\n",
       "      <td>90</td>\n",
       "      <td>0</td>\n",
       "      <td>0</td>\n",
       "      <td>1</td>\n",
       "    </tr>\n",
       "    <tr>\n",
       "      <th>1</th>\n",
       "      <td>13634</td>\n",
       "      <td>19</td>\n",
       "      <td>18</td>\n",
       "      <td>0</td>\n",
       "      <td>0</td>\n",
       "      <td>1</td>\n",
       "    </tr>\n",
       "    <tr>\n",
       "      <th>2</th>\n",
       "      <td>1986</td>\n",
       "      <td>30</td>\n",
       "      <td>90</td>\n",
       "      <td>0</td>\n",
       "      <td>0</td>\n",
       "      <td>1</td>\n",
       "    </tr>\n",
       "    <tr>\n",
       "      <th>3</th>\n",
       "      <td>13963</td>\n",
       "      <td>70</td>\n",
       "      <td>64</td>\n",
       "      <td>0</td>\n",
       "      <td>0</td>\n",
       "      <td>2</td>\n",
       "    </tr>\n",
       "    <tr>\n",
       "      <th>4</th>\n",
       "      <td>19098</td>\n",
       "      <td>115</td>\n",
       "      <td>14</td>\n",
       "      <td>0</td>\n",
       "      <td>0</td>\n",
       "      <td>1</td>\n",
       "    </tr>\n",
       "  </tbody>\n",
       "</table>\n",
       "</div>"
      ],
      "text/plain": [
       "   index  element  minutes  goals_scored  assists  total_points\n",
       "0  20388       58       90             0        0             1\n",
       "1  13634       19       18             0        0             1\n",
       "2   1986       30       90             0        0             1\n",
       "3  13963       70       64             0        0             2\n",
       "4  19098      115       14             0        0             1"
      ]
     },
     "execution_count": 166,
     "metadata": {},
     "output_type": "execute_result"
    }
   ],
   "source": [
    "sample_data.head()"
   ]
  },
  {
   "cell_type": "code",
   "execution_count": 171,
   "id": "functioning-infrastructure",
   "metadata": {
    "ExecuteTime": {
     "end_time": "2021-04-20T02:31:11.924253Z",
     "start_time": "2021-04-20T02:31:11.916461Z"
    },
    "code_folding": []
   },
   "outputs": [],
   "source": [
    "test_data = []\n",
    "for i in range(20):\n",
    "    test_data.append([i]+list(sample_data.iloc[i].values[1:]))"
   ]
  },
  {
   "cell_type": "code",
   "execution_count": 172,
   "id": "sorted-swiss",
   "metadata": {
    "ExecuteTime": {
     "end_time": "2021-04-20T02:31:12.125159Z",
     "start_time": "2021-04-20T02:31:12.117604Z"
    },
    "scrolled": true
   },
   "outputs": [
    {
     "data": {
      "text/plain": [
       "[[0, 58, 90, 0, 0, 1],\n",
       " [1, 19, 18, 0, 0, 1],\n",
       " [2, 30, 90, 0, 0, 1],\n",
       " [3, 70, 64, 0, 0, 2],\n",
       " [4, 115, 14, 0, 0, 1],\n",
       " [5, 436, 0, 0, 0, 0],\n",
       " [6, 206, 0, 0, 0, 0],\n",
       " [7, 38, 0, 0, 0, 0],\n",
       " [8, 417, 73, 0, 0, 2],\n",
       " [9, 299, 0, 0, 0, 0],\n",
       " [10, 265, 63, 0, 2, 10],\n",
       " [11, 42, 90, 0, 0, 2],\n",
       " [12, 112, 0, 0, 0, 0],\n",
       " [13, 262, 90, 0, 0, 2],\n",
       " [14, 499, 0, 0, 0, 0],\n",
       " [15, 596, 0, 0, 0, 0],\n",
       " [16, 21, 85, 0, 0, 2],\n",
       " [17, 517, 45, 0, 0, 1],\n",
       " [18, 370, 90, 0, 0, 3],\n",
       " [19, 146, 68, 0, 0, 2]]"
      ]
     },
     "execution_count": 172,
     "metadata": {},
     "output_type": "execute_result"
    }
   ],
   "source": [
    "test_data"
   ]
  },
  {
   "cell_type": "markdown",
   "id": "integral-bargain",
   "metadata": {},
   "source": [
    "## SQL"
   ]
  },
  {
   "cell_type": "code",
   "execution_count": 44,
   "id": "beautiful-presence",
   "metadata": {
    "ExecuteTime": {
     "end_time": "2021-04-20T00:33:23.905351Z",
     "start_time": "2021-04-20T00:33:23.901817Z"
    }
   },
   "outputs": [],
   "source": [
    "import sqlite3"
   ]
  },
  {
   "cell_type": "code",
   "execution_count": 185,
   "id": "turkish-southeast",
   "metadata": {
    "ExecuteTime": {
     "end_time": "2021-04-20T02:36:01.918877Z",
     "start_time": "2021-04-20T02:36:01.909943Z"
    }
   },
   "outputs": [],
   "source": [
    "conn = sqlite3.connect('pl.sqlite')\n",
    "cur = conn.cursor()\n",
    "\n",
    "drop_table = '''\n",
    "    DROP TABLE IF EXISTS \"player_data\";\n",
    "'''\n",
    "\n",
    "create_table = '''\n",
    "    CREATE TABLE \"player_data\" (\n",
    "        id INT PRIMARY KEY NOT NULL,\n",
    "        player_id INT NOT NULL,\n",
    "        minutes INT NOT NULL,\n",
    "        goals_scored INT NOT NULL,\n",
    "        assists INT NOT NULL,\n",
    "        total_points INT NOT NULL\n",
    ");'''\n",
    "\n",
    "for command in [drop_table, create_table]:\n",
    "    cur.execute(command)\n",
    "conn.commit()\n",
    "conn.close()"
   ]
  },
  {
   "cell_type": "code",
   "execution_count": 117,
   "id": "shaped-branch",
   "metadata": {
    "ExecuteTime": {
     "end_time": "2021-04-20T02:02:09.785697Z",
     "start_time": "2021-04-20T02:02:09.776472Z"
    }
   },
   "outputs": [],
   "source": [
    "conn = sqlite3.connect('pl.sqlite')\n",
    "cur = conn.cursor()\n",
    "\n",
    "drop_table = '''\n",
    "    DROP TABLE IF EXISTS \"player_name\";\n",
    "'''\n",
    "\n",
    "create_table = '''\n",
    "    CREATE TABLE \"player_name\" (\n",
    "        id INT NOT NULL PRIMARY KEY UNIQUE,\n",
    "        first_name TEXT NOT NULL,\n",
    "        last_name TEXT NOT NULL\n",
    ");'''\n",
    "\n",
    "for command in [drop_table, create_table]:\n",
    "    cur.execute(command)\n",
    "conn.commit()\n",
    "conn.close()"
   ]
  },
  {
   "cell_type": "code",
   "execution_count": 186,
   "id": "random-facility",
   "metadata": {
    "ExecuteTime": {
     "end_time": "2021-04-20T02:36:03.080277Z",
     "start_time": "2021-04-20T02:36:03.071439Z"
    }
   },
   "outputs": [],
   "source": [
    "conn = sqlite3.connect('pl.sqlite')\n",
    "cur = conn.cursor()\n",
    "\n",
    "insert_player = '''\n",
    "        INSERT INTO player_data(id, player_id, minutes, goals_scored,assists,total_points)\n",
    "        VALUES (?,?,?,?,?,?)\n",
    "    '''\n",
    "\n",
    "cur.execute(insert_player, [0, 58, 90, 0, 0, 1])\n",
    "cur.execute(insert_player, [1, 19, 18, 0, 0, 1])\n",
    "cur.execute(insert_player, [2, 30, 90, 0, 0, 1])\n",
    "cur.execute(insert_player, [3, 70, 64, 0, 0, 2])\n",
    "cur.execute(insert_player, [4, 115, 14, 0, 0, 1])\n",
    "\n",
    "conn.commit()\n",
    "conn.close()"
   ]
  },
  {
   "cell_type": "code",
   "execution_count": null,
   "id": "departmental-method",
   "metadata": {},
   "outputs": [],
   "source": []
  }
 ],
 "metadata": {
  "kernelspec": {
   "display_name": "Python 3",
   "language": "python",
   "name": "python3"
  },
  "language_info": {
   "codemirror_mode": {
    "name": "ipython",
    "version": 3
   },
   "file_extension": ".py",
   "mimetype": "text/x-python",
   "name": "python",
   "nbconvert_exporter": "python",
   "pygments_lexer": "ipython3",
   "version": "3.8.3"
  },
  "varInspector": {
   "cols": {
    "lenName": 16,
    "lenType": 16,
    "lenVar": 40
   },
   "kernels_config": {
    "python": {
     "delete_cmd_postfix": "",
     "delete_cmd_prefix": "del ",
     "library": "var_list.py",
     "varRefreshCmd": "print(var_dic_list())"
    },
    "r": {
     "delete_cmd_postfix": ") ",
     "delete_cmd_prefix": "rm(",
     "library": "var_list.r",
     "varRefreshCmd": "cat(var_dic_list()) "
    }
   },
   "types_to_exclude": [
    "module",
    "function",
    "builtin_function_or_method",
    "instance",
    "_Feature"
   ],
   "window_display": false
  }
 },
 "nbformat": 4,
 "nbformat_minor": 5
}
